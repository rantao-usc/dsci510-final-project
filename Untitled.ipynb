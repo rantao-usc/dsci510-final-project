{
 "cells": [
  {
   "cell_type": "markdown",
   "id": "91757dd4",
   "metadata": {},
   "source": [
    "# Getting data from sources"
   ]
  },
  {
   "cell_type": "markdown",
   "id": "daa4f094",
   "metadata": {},
   "source": [
    "## Get data from 'web scraping'"
   ]
  },
  {
   "cell_type": "code",
   "execution_count": 1,
   "id": "eb0e120f",
   "metadata": {},
   "outputs": [],
   "source": [
    "import csv\n",
    "from typing import List, Tuple\n",
    "import requests\n",
    "from bs4 import BeautifulSoup\n",
    "def scrape_data(url: str) -> List[Tuple[str, str]]:\n",
    "    page = requests.get(url)\n",
    "    soup = BeautifulSoup(page.content, 'html.parser')\n",
    "    table = soup.find('table', attrs={'class': 'FloatTitle'})\n",
    "    data = [] # Initialize an empty list to store the data\n",
    "    tbody = table.find('tbody')\n",
    "    body_rows = tbody.find_all('tr')\n",
    "    for row in body_rows:\n",
    "        cols = row.find_all('td')\n",
    "        row_data = []\n",
    "        for col in cols[1:]:\n",
    "            if col.text.strip() and col.text.strip() != 'NA': # Check if cell is not empty and not 'NA'\n",
    "                row_data.append(col.text.strip())\n",
    "        if row_data: # Ignore empty rows\n",
    "            data.append(row_data)\n",
    "    # Combine the data from each row into a single list\n",
    "    combined_data = []\n",
    "    for row_data in data:\n",
    "        combined_data.extend(row_data)\n",
    "    # Create a list of (year, data) tuples\n",
    "    years = list(range(1994, 2023))\n",
    "    year_data = list(zip(years, combined_data))\n",
    "    return year_data"
   ]
  },
  {
   "cell_type": "code",
   "execution_count": 2,
   "id": "e43d3c5c",
   "metadata": {},
   "outputs": [],
   "source": [
    "url = 'https://www.eia.gov/dnav/pet/hist/LeafHandler.ashx?n=pet&s=emm_epm0_pte_nus_dpg&f=a'\n",
    "year_data = scrape_data(url)\n",
    "# Store data in a csv file\n",
    "with open('gas_price.csv', 'w', newline='') as csvfile:\n",
    "        writer = csv.writer(csvfile)\n",
    "        writer.writerow(['Year', 'Data'])\n",
    "        for year, value in year_data:\n",
    "            writer.writerow([year, value])"
   ]
  },
  {
   "cell_type": "markdown",
   "id": "dba15632",
   "metadata": {},
   "source": [
    "## Get data from API"
   ]
  },
  {
   "cell_type": "code",
   "execution_count": 3,
   "id": "d758857a",
   "metadata": {},
   "outputs": [],
   "source": [
    "import requests\n",
    "import csv\n",
    "\n",
    "# Make request to API\n",
    "url = 'https://api.eia.gov/v2/co2-emissions/co2-emissions-aggregates/data/?api_key=j3dEAAmfxdpvHVe5RumfMXIYEnkVLSPKPDEbo59A&frequency=annual&data[0]=value&facets[stateId][]=CA&facets[sectorId][]=TC&facets[fuelId][]=NG&sort[0][column]=period&sort[0][direction]=desc&offset=0&length=5000'\n",
    "response = requests.get(url)\n",
    "\n",
    "# Get JSON data from response\n",
    "data = response.json()\n",
    "\n",
    "# Extract relevant data and write it to a CSV file\n",
    "with open('co2_data.csv', 'w', newline='') as csvfile:\n",
    "    writer = csv.writer(csvfile)\n",
    "    writer.writerow(['Year', 'CO2 Value (million metric tons)'])\n",
    "    for d in data['response']['data']:\n",
    "        writer.writerow([d['period'], d['value']])"
   ]
  },
  {
   "cell_type": "markdown",
   "id": "1319ff80",
   "metadata": {},
   "source": [
    "# Read data from webscrape, API, and existed .xlsx file"
   ]
  },
  {
   "cell_type": "markdown",
   "id": "b8f8712e",
   "metadata": {},
   "source": [
    "## Read data from web scrape"
   ]
  },
  {
   "cell_type": "code",
   "execution_count": 4,
   "id": "54ca0d4e",
   "metadata": {},
   "outputs": [],
   "source": [
    "import pandas as pd"
   ]
  },
  {
   "cell_type": "code",
   "execution_count": 5,
   "id": "94c52f4d",
   "metadata": {},
   "outputs": [
    {
     "name": "stdout",
     "output_type": "stream",
     "text": [
      "   Year    Gas\n",
      "0  2011  2.258\n",
      "1  2012  2.691\n",
      "2  2013  2.813\n",
      "3  2014  2.528\n",
      "4  2015  2.250\n",
      "5  2016  2.520\n",
      "6  2017  3.437\n",
      "7  2018  3.575\n",
      "8  2019  3.680\n",
      "9  2020  3.576\n"
     ]
    }
   ],
   "source": [
    "df_gas = pd.read_csv('gas_price.csv')\n",
    "# Filter the data for years 2011 to 2021\n",
    "df_gas = df_gas[(df_gas['Year'] >= 2011) & (df_gas['Year'] <= 2020)]\n",
    "# Change the column name from \"Data\" to \"Gas\"\n",
    "df_gas = df_gas.rename(columns={'Data': 'Gas'})\n",
    "# Re-index the DataFrame\n",
    "df_gas = df_gas.reset_index(drop=True)\n",
    "# Reverse the \"Gas\" column\n",
    "df_gas['Gas'] = df_gas['Gas'].iloc[::-1].reset_index(drop=True)\n",
    "\n",
    "# Print the updated DataFrame\n",
    "print(df_gas)"
   ]
  },
  {
   "cell_type": "markdown",
   "id": "9f0593d6",
   "metadata": {},
   "source": [
    "## Read data from API"
   ]
  },
  {
   "cell_type": "code",
   "execution_count": 6,
   "id": "05c945ce",
   "metadata": {},
   "outputs": [
    {
     "name": "stdout",
     "output_type": "stream",
     "text": [
      "   Year       CO2\n",
      "0  2011  2.315183\n",
      "1  2012  2.658833\n",
      "2  2013  2.401849\n",
      "3  2014  2.429892\n",
      "4  2015  2.256876\n",
      "5  2016  1.948517\n",
      "6  2017  2.099782\n",
      "7  2018  1.337907\n",
      "8  2019  1.492802\n",
      "9  2020  1.349367\n"
     ]
    }
   ],
   "source": [
    "df_co2 = pd.read_csv('co2_data.csv')\n",
    "df_co2 = df_co2[(df_co2['Year'] >= 2011) & (df_co2['Year'] <= 2020)]\n",
    "# Reorder the rows in the DataFrame\n",
    "df_co2 = df_co2.sort_values(by='Year')\n",
    "\n",
    "# Reset the index\n",
    "df_co2 = df_co2.reset_index(drop=True)\n",
    "# Change the column name from \"CO2 Value (million metric tons)\" to \"CO2\"\n",
    "df_co2 = df_co2.rename(columns={'CO2 Value (million metric tons)': 'CO2'})\n",
    "# Reverse the \"Gas\" column\n",
    "df_co2['CO2'] = df_co2['CO2'].iloc[::-1].reset_index(drop=True)\n",
    "print(df_co2)"
   ]
  },
  {
   "cell_type": "markdown",
   "id": "11f4d71f",
   "metadata": {},
   "source": [
    "## Read data from .xlsx file"
   ]
  },
  {
   "cell_type": "code",
   "execution_count": 7,
   "id": "13dff16e",
   "metadata": {},
   "outputs": [
    {
     "ename": "FileNotFoundError",
     "evalue": "[Errno 2] No such file or directory: 'ev_num.xlsx'",
     "output_type": "error",
     "traceback": [
      "\u001b[0;31m---------------------------------------------------------------------------\u001b[0m",
      "\u001b[0;31mFileNotFoundError\u001b[0m                         Traceback (most recent call last)",
      "\u001b[0;32m/var/folders/pk/2ffqtxk57yvfmlm4szrxzvkh0000gn/T/ipykernel_31187/2640248315.py\u001b[0m in \u001b[0;36m<module>\u001b[0;34m\u001b[0m\n\u001b[1;32m      1\u001b[0m \u001b[0;31m# Read the Excel file into a pandas DataFrame\u001b[0m\u001b[0;34m\u001b[0m\u001b[0;34m\u001b[0m\u001b[0;34m\u001b[0m\u001b[0m\n\u001b[0;32m----> 2\u001b[0;31m \u001b[0mdf_car\u001b[0m \u001b[0;34m=\u001b[0m \u001b[0mpd\u001b[0m\u001b[0;34m.\u001b[0m\u001b[0mread_excel\u001b[0m\u001b[0;34m(\u001b[0m\u001b[0;34m'ev_num.xlsx'\u001b[0m\u001b[0;34m,\u001b[0m \u001b[0msheet_name\u001b[0m\u001b[0;34m=\u001b[0m\u001b[0;34m'1-19'\u001b[0m\u001b[0;34m,\u001b[0m \u001b[0mskiprows\u001b[0m\u001b[0;34m=\u001b[0m\u001b[0;36m1\u001b[0m\u001b[0;34m)\u001b[0m\u001b[0;34m\u001b[0m\u001b[0;34m\u001b[0m\u001b[0m\n\u001b[0m\u001b[1;32m      3\u001b[0m \u001b[0;34m\u001b[0m\u001b[0m\n\u001b[1;32m      4\u001b[0m \u001b[0;31m# Transpose the DataFrame to make the year data the index\u001b[0m\u001b[0;34m\u001b[0m\u001b[0;34m\u001b[0m\u001b[0;34m\u001b[0m\u001b[0m\n\u001b[1;32m      5\u001b[0m \u001b[0mdf_car\u001b[0m \u001b[0;34m=\u001b[0m \u001b[0mdf_car\u001b[0m\u001b[0;34m.\u001b[0m\u001b[0mT\u001b[0m\u001b[0;34m\u001b[0m\u001b[0;34m\u001b[0m\u001b[0m\n",
      "\u001b[0;32m/usr/local/lib/python3.9/site-packages/pandas/util/_decorators.py\u001b[0m in \u001b[0;36mwrapper\u001b[0;34m(*args, **kwargs)\u001b[0m\n\u001b[1;32m    309\u001b[0m                     \u001b[0mstacklevel\u001b[0m\u001b[0;34m=\u001b[0m\u001b[0mstacklevel\u001b[0m\u001b[0;34m,\u001b[0m\u001b[0;34m\u001b[0m\u001b[0;34m\u001b[0m\u001b[0m\n\u001b[1;32m    310\u001b[0m                 )\n\u001b[0;32m--> 311\u001b[0;31m             \u001b[0;32mreturn\u001b[0m \u001b[0mfunc\u001b[0m\u001b[0;34m(\u001b[0m\u001b[0;34m*\u001b[0m\u001b[0margs\u001b[0m\u001b[0;34m,\u001b[0m \u001b[0;34m**\u001b[0m\u001b[0mkwargs\u001b[0m\u001b[0;34m)\u001b[0m\u001b[0;34m\u001b[0m\u001b[0;34m\u001b[0m\u001b[0m\n\u001b[0m\u001b[1;32m    312\u001b[0m \u001b[0;34m\u001b[0m\u001b[0m\n\u001b[1;32m    313\u001b[0m         \u001b[0;32mreturn\u001b[0m \u001b[0mwrapper\u001b[0m\u001b[0;34m\u001b[0m\u001b[0;34m\u001b[0m\u001b[0m\n",
      "\u001b[0;32m/usr/local/lib/python3.9/site-packages/pandas/io/excel/_base.py\u001b[0m in \u001b[0;36mread_excel\u001b[0;34m(io, sheet_name, header, names, index_col, usecols, squeeze, dtype, engine, converters, true_values, false_values, skiprows, nrows, na_values, keep_default_na, na_filter, verbose, parse_dates, date_parser, thousands, comment, skipfooter, convert_float, mangle_dupe_cols, storage_options)\u001b[0m\n\u001b[1;32m    362\u001b[0m     \u001b[0;32mif\u001b[0m \u001b[0;32mnot\u001b[0m \u001b[0misinstance\u001b[0m\u001b[0;34m(\u001b[0m\u001b[0mio\u001b[0m\u001b[0;34m,\u001b[0m \u001b[0mExcelFile\u001b[0m\u001b[0;34m)\u001b[0m\u001b[0;34m:\u001b[0m\u001b[0;34m\u001b[0m\u001b[0;34m\u001b[0m\u001b[0m\n\u001b[1;32m    363\u001b[0m         \u001b[0mshould_close\u001b[0m \u001b[0;34m=\u001b[0m \u001b[0;32mTrue\u001b[0m\u001b[0;34m\u001b[0m\u001b[0;34m\u001b[0m\u001b[0m\n\u001b[0;32m--> 364\u001b[0;31m         \u001b[0mio\u001b[0m \u001b[0;34m=\u001b[0m \u001b[0mExcelFile\u001b[0m\u001b[0;34m(\u001b[0m\u001b[0mio\u001b[0m\u001b[0;34m,\u001b[0m \u001b[0mstorage_options\u001b[0m\u001b[0;34m=\u001b[0m\u001b[0mstorage_options\u001b[0m\u001b[0;34m,\u001b[0m \u001b[0mengine\u001b[0m\u001b[0;34m=\u001b[0m\u001b[0mengine\u001b[0m\u001b[0;34m)\u001b[0m\u001b[0;34m\u001b[0m\u001b[0;34m\u001b[0m\u001b[0m\n\u001b[0m\u001b[1;32m    365\u001b[0m     \u001b[0;32melif\u001b[0m \u001b[0mengine\u001b[0m \u001b[0;32mand\u001b[0m \u001b[0mengine\u001b[0m \u001b[0;34m!=\u001b[0m \u001b[0mio\u001b[0m\u001b[0;34m.\u001b[0m\u001b[0mengine\u001b[0m\u001b[0;34m:\u001b[0m\u001b[0;34m\u001b[0m\u001b[0;34m\u001b[0m\u001b[0m\n\u001b[1;32m    366\u001b[0m         raise ValueError(\n",
      "\u001b[0;32m/usr/local/lib/python3.9/site-packages/pandas/io/excel/_base.py\u001b[0m in \u001b[0;36m__init__\u001b[0;34m(self, path_or_buffer, engine, storage_options)\u001b[0m\n\u001b[1;32m   1189\u001b[0m                 \u001b[0mext\u001b[0m \u001b[0;34m=\u001b[0m \u001b[0;34m\"xls\"\u001b[0m\u001b[0;34m\u001b[0m\u001b[0;34m\u001b[0m\u001b[0m\n\u001b[1;32m   1190\u001b[0m             \u001b[0;32melse\u001b[0m\u001b[0;34m:\u001b[0m\u001b[0;34m\u001b[0m\u001b[0;34m\u001b[0m\u001b[0m\n\u001b[0;32m-> 1191\u001b[0;31m                 ext = inspect_excel_format(\n\u001b[0m\u001b[1;32m   1192\u001b[0m                     \u001b[0mcontent_or_path\u001b[0m\u001b[0;34m=\u001b[0m\u001b[0mpath_or_buffer\u001b[0m\u001b[0;34m,\u001b[0m \u001b[0mstorage_options\u001b[0m\u001b[0;34m=\u001b[0m\u001b[0mstorage_options\u001b[0m\u001b[0;34m\u001b[0m\u001b[0;34m\u001b[0m\u001b[0m\n\u001b[1;32m   1193\u001b[0m                 )\n",
      "\u001b[0;32m/usr/local/lib/python3.9/site-packages/pandas/io/excel/_base.py\u001b[0m in \u001b[0;36minspect_excel_format\u001b[0;34m(content_or_path, storage_options)\u001b[0m\n\u001b[1;32m   1068\u001b[0m         \u001b[0mcontent_or_path\u001b[0m \u001b[0;34m=\u001b[0m \u001b[0mBytesIO\u001b[0m\u001b[0;34m(\u001b[0m\u001b[0mcontent_or_path\u001b[0m\u001b[0;34m)\u001b[0m\u001b[0;34m\u001b[0m\u001b[0;34m\u001b[0m\u001b[0m\n\u001b[1;32m   1069\u001b[0m \u001b[0;34m\u001b[0m\u001b[0m\n\u001b[0;32m-> 1070\u001b[0;31m     with get_handle(\n\u001b[0m\u001b[1;32m   1071\u001b[0m         \u001b[0mcontent_or_path\u001b[0m\u001b[0;34m,\u001b[0m \u001b[0;34m\"rb\"\u001b[0m\u001b[0;34m,\u001b[0m \u001b[0mstorage_options\u001b[0m\u001b[0;34m=\u001b[0m\u001b[0mstorage_options\u001b[0m\u001b[0;34m,\u001b[0m \u001b[0mis_text\u001b[0m\u001b[0;34m=\u001b[0m\u001b[0;32mFalse\u001b[0m\u001b[0;34m\u001b[0m\u001b[0;34m\u001b[0m\u001b[0m\n\u001b[1;32m   1072\u001b[0m     ) as handle:\n",
      "\u001b[0;32m/usr/local/lib/python3.9/site-packages/pandas/io/common.py\u001b[0m in \u001b[0;36mget_handle\u001b[0;34m(path_or_buf, mode, encoding, compression, memory_map, is_text, errors, storage_options)\u001b[0m\n\u001b[1;32m    709\u001b[0m         \u001b[0;32melse\u001b[0m\u001b[0;34m:\u001b[0m\u001b[0;34m\u001b[0m\u001b[0;34m\u001b[0m\u001b[0m\n\u001b[1;32m    710\u001b[0m             \u001b[0;31m# Binary mode\u001b[0m\u001b[0;34m\u001b[0m\u001b[0;34m\u001b[0m\u001b[0;34m\u001b[0m\u001b[0m\n\u001b[0;32m--> 711\u001b[0;31m             \u001b[0mhandle\u001b[0m \u001b[0;34m=\u001b[0m \u001b[0mopen\u001b[0m\u001b[0;34m(\u001b[0m\u001b[0mhandle\u001b[0m\u001b[0;34m,\u001b[0m \u001b[0mioargs\u001b[0m\u001b[0;34m.\u001b[0m\u001b[0mmode\u001b[0m\u001b[0;34m)\u001b[0m\u001b[0;34m\u001b[0m\u001b[0;34m\u001b[0m\u001b[0m\n\u001b[0m\u001b[1;32m    712\u001b[0m         \u001b[0mhandles\u001b[0m\u001b[0;34m.\u001b[0m\u001b[0mappend\u001b[0m\u001b[0;34m(\u001b[0m\u001b[0mhandle\u001b[0m\u001b[0;34m)\u001b[0m\u001b[0;34m\u001b[0m\u001b[0;34m\u001b[0m\u001b[0m\n\u001b[1;32m    713\u001b[0m \u001b[0;34m\u001b[0m\u001b[0m\n",
      "\u001b[0;31mFileNotFoundError\u001b[0m: [Errno 2] No such file or directory: 'ev_num.xlsx'"
     ]
    }
   ],
   "source": [
    "# Read the Excel file into a pandas DataFrame\n",
    "df_car = pd.read_excel('/datasets/ev_num.xlsx', sheet_name='1-19', skiprows=1)\n",
    "\n",
    "# Transpose the DataFrame to make the year data the index\n",
    "df_car = df_car.T\n",
    "\n",
    "# Reset the column headers to the first row of data\n",
    "new_header = df_car.iloc[0]\n",
    "df_car = df_car[1:]\n",
    "df_car.columns = new_header\n",
    "\n",
    "# Reset the index to make the year column a regular column\n",
    "df_car = df_car.reset_index()\n",
    "\n",
    "# Rename the columns\n",
    "df_car.columns = ['Year', 'Value']\n",
    "\n",
    "# Convert the year column to integers\n",
    "df_car['Year'] = df_car['Year'].astype(int)\n",
    "\n",
    "# Change the column name from \"Value\" to \"car\"\n",
    "df_car = df_car.rename(columns={'Value': 'Car'})\n",
    "\n",
    "# Print the pivoted DataFrame\n",
    "print(df_car)"
   ]
  },
  {
   "cell_type": "markdown",
   "id": "3de33b76",
   "metadata": {},
   "source": [
    "# Analysis"
   ]
  },
  {
   "cell_type": "markdown",
   "id": "711682de",
   "metadata": {},
   "source": [
    "## Gas VS Car"
   ]
  },
  {
   "cell_type": "code",
   "execution_count": null,
   "id": "793d175d",
   "metadata": {},
   "outputs": [],
   "source": [
    "# Merge the two DataFrames on the \"Year\" column\n",
    "df_merged_1 = pd.merge(df_gas, df_car, on='Year')\n",
    "df_merged_1"
   ]
  },
  {
   "cell_type": "code",
   "execution_count": null,
   "id": "07af2fa5",
   "metadata": {},
   "outputs": [],
   "source": [
    "# Build the linear regression model\n",
    "import matplotlib.pyplot as plt\n",
    "from sklearn.linear_model import LinearRegression\n",
    "X = df_merged_1[['Gas']] # Independent variable\n",
    "y = df_merged_1['Car']   # Dependent variable\n",
    "model = LinearRegression()\n",
    "model.fit(X, y)\n",
    "\n",
    "# Plot the linear regression model\n",
    "plt.scatter(X, y, color='blue')\n",
    "plt.plot(X, model.predict(X), color='red')\n",
    "plt.title('Gas vs Car')\n",
    "plt.xlabel('Gas')\n",
    "plt.ylabel('Car')\n",
    "plt.show()"
   ]
  },
  {
   "cell_type": "markdown",
   "id": "31b7d064",
   "metadata": {},
   "source": [
    "As you can see from the plot, there is a strong positive correlation between the \"Gas\" and \"car\" columns, which is reflected in the positive slope of the linear regression line.\n",
    "\n",
    "This shows when the gas price increases, more people are willing to buy Electric cars."
   ]
  },
  {
   "cell_type": "markdown",
   "id": "db8fada9",
   "metadata": {},
   "source": [
    "## Car vs Co2"
   ]
  },
  {
   "cell_type": "code",
   "execution_count": null,
   "id": "3583263b",
   "metadata": {},
   "outputs": [],
   "source": [
    "# Merge the two DataFrames on the \"Year\" column\n",
    "df_merged_2 = pd.merge(df_car, df_co2, on='Year')\n",
    "df_merged_2"
   ]
  },
  {
   "cell_type": "code",
   "execution_count": null,
   "id": "c25a9406",
   "metadata": {},
   "outputs": [],
   "source": [
    "# Build the linear regression model\n",
    "X = df_merged_2[['Car']] # Independent variable\n",
    "y = df_merged_2['CO2']   # Dependent variable\n",
    "model = LinearRegression()\n",
    "model.fit(X, y)\n",
    "\n",
    "# Plot the linear regression model\n",
    "plt.scatter(X, y, color='blue')\n",
    "plt.plot(X, model.predict(X), color='red')\n",
    "plt.title('Car vs CO2')\n",
    "plt.xlabel('Car')\n",
    "plt.ylabel('CO2')\n",
    "plt.show()"
   ]
  },
  {
   "cell_type": "markdown",
   "id": "7a530983",
   "metadata": {},
   "source": [
    "As you can see from the plot, there is a strong negative correlation between the \"Car\" and \"co2\" columns, which is reflected in the negative slope of the linear regression line.\n",
    "\n",
    "This shows electric cars contribute a lot to environment."
   ]
  },
  {
   "cell_type": "markdown",
   "id": "7dd6bb8f",
   "metadata": {},
   "source": [
    "## USE co2 and gas price to predict number of electric cars"
   ]
  },
  {
   "cell_type": "code",
   "execution_count": null,
   "id": "8748db23",
   "metadata": {},
   "outputs": [],
   "source": [
    "import pandas as pd\n",
    "import matplotlib.pyplot as plt\n",
    "from mpl_toolkits.mplot3d import Axes3D\n",
    "from sklearn.linear_model import LinearRegression\n",
    "\n",
    "# Merge the DataFrames on the \"Year\" column\n",
    "df_merged = pd.merge(df_gas, df_co2, on='Year')\n",
    "df_merged = pd.merge(df_merged, df_car, on='Year')\n",
    "\n",
    "# Build the linear regression model\n",
    "X = df_merged[['Gas', 'CO2']] # Independent variables\n",
    "y = df_merged['Car']          # Dependent variable\n",
    "model = LinearRegression()\n",
    "model.fit(X, y)\n",
    "\n",
    "# Print the mathematical formula of the model\n",
    "print(f'Car = {model.intercept_:.2f} + {model.coef_[0]:.2f} * Gas + {model.coef_[1]:.2f} * CO2')\n",
    "\n",
    "# Plot the linear regression model\n",
    "fig = plt.figure()\n",
    "ax = fig.add_subplot(111, projection='3d')\n",
    "ax.scatter(df_merged['Gas'], df_merged['CO2'], df_merged['Car'], c='blue', marker='o')\n",
    "x_surf, y_surf = np.meshgrid(np.linspace(df_merged['Gas'].min(), df_merged['Gas'].max(), 100), \n",
    "                             np.linspace(df_merged['CO2'].min(), df_merged['CO2'].max(), 100))\n",
    "z_surf = model.intercept_ + model.coef_[0] * x_surf + model.coef_[1] * y_surf\n",
    "ax.plot_surface(x_surf, y_surf, z_surf, cmap='coolwarm', alpha=0.5)\n",
    "ax.set_xlabel('Gas')\n",
    "ax.set_ylabel('CO2')\n",
    "ax.set_zlabel('Car')\n",
    "ax.view_init(elev=20, azim=30) # Rotate the view\n",
    "plt.show()"
   ]
  }
 ],
 "metadata": {
  "kernelspec": {
   "display_name": "Python 3 (ipykernel)",
   "language": "python",
   "name": "python3"
  },
  "language_info": {
   "codemirror_mode": {
    "name": "ipython",
    "version": 3
   },
   "file_extension": ".py",
   "mimetype": "text/x-python",
   "name": "python",
   "nbconvert_exporter": "python",
   "pygments_lexer": "ipython3",
   "version": "3.9.6"
  }
 },
 "nbformat": 4,
 "nbformat_minor": 5
}
