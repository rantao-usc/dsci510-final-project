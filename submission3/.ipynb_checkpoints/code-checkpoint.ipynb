{
 "cells": [
  {
   "cell_type": "markdown",
   "id": "91757dd4",
   "metadata": {},
   "source": [
    "# Getting data from sources"
   ]
  },
  {
   "cell_type": "markdown",
   "id": "daa4f094",
   "metadata": {},
   "source": [
    "## Get data from 'web scraping'"
   ]
  },
  {
   "cell_type": "code",
   "execution_count": 1,
   "id": "eb0e120f",
   "metadata": {},
   "outputs": [],
   "source": [
    "import csv\n",
    "from typing import List, Tuple\n",
    "import requests\n",
    "from bs4 import BeautifulSoup\n",
    "def scrape_data(url: str) -> List[Tuple[str, str]]:\n",
    "    page = requests.get(url)\n",
    "    soup = BeautifulSoup(page.content, 'html.parser')\n",
    "    table = soup.find('table', attrs={'class': 'FloatTitle'})\n",
    "    data = [] # Initialize an empty list to store the data\n",
    "    tbody = table.find('tbody')\n",
    "    body_rows = tbody.find_all('tr')\n",
    "    for row in body_rows:\n",
    "        cols = row.find_all('td')\n",
    "        row_data = []\n",
    "        for col in cols[1:]:\n",
    "            if col.text.strip() and col.text.strip() != 'NA': # Check if cell is not empty and not 'NA'\n",
    "                row_data.append(col.text.strip())\n",
    "        if row_data: # Ignore empty rows\n",
    "            data.append(row_data)\n",
    "    # Combine the data from each row into a single list\n",
    "    combined_data = []\n",
    "    for row_data in data:\n",
    "        combined_data.extend(row_data)\n",
    "    # Create a list of (year, data) tuples\n",
    "    years = list(range(1994, 2023))\n",
    "    year_data = list(zip(years, combined_data))\n",
    "    return year_data"
   ]
  },
  {
   "cell_type": "code",
   "execution_count": 2,
   "id": "e43d3c5c",
   "metadata": {},
   "outputs": [],
   "source": [
    "url = 'https://www.eia.gov/dnav/pet/hist/LeafHandler.ashx?n=pet&s=emm_epm0_pte_nus_dpg&f=a'\n",
    "year_data = scrape_data(url)\n",
    "# Store data in a csv file\n",
    "with open('gas_price.csv', 'w', newline='') as csvfile:\n",
    "        writer = csv.writer(csvfile)\n",
    "        writer.writerow(['Year', 'Data'])\n",
    "        for year, value in year_data:\n",
    "            writer.writerow([year, value])"
   ]
  },
  {
   "cell_type": "markdown",
   "id": "dba15632",
   "metadata": {},
   "source": [
    "## Get data from API"
   ]
  },
  {
   "cell_type": "code",
   "execution_count": 3,
   "id": "d758857a",
   "metadata": {},
   "outputs": [],
   "source": [
    "import requests\n",
    "import csv\n",
    "\n",
    "# Make request to API\n",
    "url = 'https://api.eia.gov/v2/co2-emissions/co2-emissions-aggregates/data/?api_key=j3dEAAmfxdpvHVe5RumfMXIYEnkVLSPKPDEbo59A&frequency=annual&data[0]=value&facets[stateId][]=CA&facets[sectorId][]=TC&facets[fuelId][]=NG&sort[0][column]=period&sort[0][direction]=desc&offset=0&length=5000'\n",
    "response = requests.get(url)\n",
    "\n",
    "# Get JSON data from response\n",
    "data = response.json()\n",
    "\n",
    "# Extract relevant data and write it to a CSV file\n",
    "with open('co2_data.csv', 'w', newline='') as csvfile:\n",
    "    writer = csv.writer(csvfile)\n",
    "    writer.writerow(['Year', 'CO2 Value (million metric tons)'])\n",
    "    for d in data['response']['data']:\n",
    "        writer.writerow([d['period'], d['value']])"
   ]
  },
  {
   "cell_type": "markdown",
   "id": "20530ea9",
   "metadata": {},
   "source": [
    "# Read data from webscrape, API, and existed .xlsx file"
   ]
  },
  {
   "cell_type": "markdown",
   "id": "136de5b9",
   "metadata": {},
   "source": [
    "## Read data from web scrape"
   ]
  },
  {
   "cell_type": "code",
   "execution_count": 4,
   "id": "1a44dbc5",
   "metadata": {},
   "outputs": [],
   "source": [
    "import pandas as pd"
   ]
  },
  {
   "cell_type": "code",
   "execution_count": 5,
   "id": "a2771f2f",
   "metadata": {},
   "outputs": [
    {
     "name": "stdout",
     "output_type": "stream",
     "text": [
      "   Year    Gas\n",
      "0  2011  2.258\n",
      "1  2012  2.691\n",
      "2  2013  2.813\n",
      "3  2014  2.528\n",
      "4  2015  2.250\n",
      "5  2016  2.520\n",
      "6  2017  3.437\n",
      "7  2018  3.575\n",
      "8  2019  3.680\n",
      "9  2020  3.576\n"
     ]
    }
   ],
   "source": [
    "df_gas = pd.read_csv('gas_price.csv')\n",
    "# Filter the data for years 2011 to 2021\n",
    "df_gas = df_gas[(df_gas['Year'] >= 2011) & (df_gas['Year'] <= 2020)]\n",
    "# Change the column name from \"Data\" to \"Gas\"\n",
    "df_gas = df_gas.rename(columns={'Data': 'Gas'})\n",
    "# Re-index the DataFrame\n",
    "df_gas = df_gas.reset_index(drop=True)\n",
    "# Reverse the \"Gas\" column\n",
    "df_gas['Gas'] = df_gas['Gas'].iloc[::-1].reset_index(drop=True)\n",
    "\n",
    "# Print the updated DataFrame\n",
    "print(df_gas)"
   ]
  },
  {
   "cell_type": "markdown",
   "id": "1dd497a7",
   "metadata": {},
   "source": [
    "## Read data from API"
   ]
  },
  {
   "cell_type": "code",
   "execution_count": 6,
   "id": "0b73e93e",
   "metadata": {},
   "outputs": [
    {
     "name": "stdout",
     "output_type": "stream",
     "text": [
      "   Year       CO2\n",
      "0  2011  2.315183\n",
      "1  2012  2.658833\n",
      "2  2013  2.401849\n",
      "3  2014  2.429892\n",
      "4  2015  2.256876\n",
      "5  2016  1.948517\n",
      "6  2017  2.099782\n",
      "7  2018  1.337907\n",
      "8  2019  1.492802\n",
      "9  2020  1.349367\n"
     ]
    }
   ],
   "source": [
    "df_co2 = pd.read_csv('co2_data.csv')\n",
    "df_co2 = df_co2[(df_co2['Year'] >= 2011) & (df_co2['Year'] <= 2020)]\n",
    "# Reorder the rows in the DataFrame\n",
    "df_co2 = df_co2.sort_values(by='Year')\n",
    "\n",
    "# Reset the index\n",
    "df_co2 = df_co2.reset_index(drop=True)\n",
    "# Change the column name from \"CO2 Value (million metric tons)\" to \"CO2\"\n",
    "df_co2 = df_co2.rename(columns={'CO2 Value (million metric tons)': 'CO2'})\n",
    "# Reverse the \"Gas\" column\n",
    "df_co2['CO2'] = df_co2['CO2'].iloc[::-1].reset_index(drop=True)\n",
    "print(df_co2)"
   ]
  },
  {
   "cell_type": "markdown",
   "id": "3897c48f",
   "metadata": {},
   "source": [
    "## Read data from .xlsx file"
   ]
  },
  {
   "cell_type": "code",
   "execution_count": 7,
   "id": "bbb3ec4d",
   "metadata": {},
   "outputs": [
    {
     "name": "stdout",
     "output_type": "stream",
     "text": [
      "   Year     Car\n",
      "0  2011   10092\n",
      "1  2012   14587\n",
      "2  2013   48094\n",
      "3  2014   63525\n",
      "4  2015   71064\n",
      "5  2016   86731\n",
      "6  2017  104487\n",
      "7  2018  207062\n",
      "8  2019  233822\n",
      "9  2020  238540\n"
     ]
    }
   ],
   "source": [
    "# Read the Excel file into a pandas DataFrame\n",
    "df_car = pd.read_excel('datasets/ev_num.xlsx', sheet_name='1-19', skiprows=1)\n",
    "\n",
    "# Transpose the DataFrame to make the year data the index\n",
    "df_car = df_car.T\n",
    "\n",
    "# Reset the column headers to the first row of data\n",
    "new_header = df_car.iloc[0]\n",
    "df_car = df_car[1:]\n",
    "df_car.columns = new_header\n",
    "\n",
    "# Reset the index to make the year column a regular column\n",
    "df_car = df_car.reset_index()\n",
    "\n",
    "# Rename the columns\n",
    "df_car.columns = ['Year', 'Value']\n",
    "\n",
    "# Convert the year column to integers\n",
    "df_car['Year'] = df_car['Year'].astype(int)\n",
    "\n",
    "# Change the column name from \"Value\" to \"car\"\n",
    "df_car = df_car.rename(columns={'Value': 'Car'})\n",
    "\n",
    "# Print the pivoted DataFrame\n",
    "print(df_car)"
   ]
  },
  {
   "cell_type": "markdown",
   "id": "0bb8ea65",
   "metadata": {},
   "source": [
    "# Analysis"
   ]
  },
  {
   "cell_type": "markdown",
   "id": "bc506b9c",
   "metadata": {},
   "source": [
    "## Gas VS Car"
   ]
  },
  {
   "cell_type": "code",
   "execution_count": 8,
   "id": "cf5da4c9",
   "metadata": {},
   "outputs": [
    {
     "data": {
      "text/html": [
       "<div>\n",
       "<style scoped>\n",
       "    .dataframe tbody tr th:only-of-type {\n",
       "        vertical-align: middle;\n",
       "    }\n",
       "\n",
       "    .dataframe tbody tr th {\n",
       "        vertical-align: top;\n",
       "    }\n",
       "\n",
       "    .dataframe thead th {\n",
       "        text-align: right;\n",
       "    }\n",
       "</style>\n",
       "<table border=\"1\" class=\"dataframe\">\n",
       "  <thead>\n",
       "    <tr style=\"text-align: right;\">\n",
       "      <th></th>\n",
       "      <th>Year</th>\n",
       "      <th>Gas</th>\n",
       "      <th>Car</th>\n",
       "    </tr>\n",
       "  </thead>\n",
       "  <tbody>\n",
       "    <tr>\n",
       "      <th>0</th>\n",
       "      <td>2011</td>\n",
       "      <td>2.258</td>\n",
       "      <td>10092</td>\n",
       "    </tr>\n",
       "    <tr>\n",
       "      <th>1</th>\n",
       "      <td>2012</td>\n",
       "      <td>2.691</td>\n",
       "      <td>14587</td>\n",
       "    </tr>\n",
       "    <tr>\n",
       "      <th>2</th>\n",
       "      <td>2013</td>\n",
       "      <td>2.813</td>\n",
       "      <td>48094</td>\n",
       "    </tr>\n",
       "    <tr>\n",
       "      <th>3</th>\n",
       "      <td>2014</td>\n",
       "      <td>2.528</td>\n",
       "      <td>63525</td>\n",
       "    </tr>\n",
       "    <tr>\n",
       "      <th>4</th>\n",
       "      <td>2015</td>\n",
       "      <td>2.250</td>\n",
       "      <td>71064</td>\n",
       "    </tr>\n",
       "    <tr>\n",
       "      <th>5</th>\n",
       "      <td>2016</td>\n",
       "      <td>2.520</td>\n",
       "      <td>86731</td>\n",
       "    </tr>\n",
       "    <tr>\n",
       "      <th>6</th>\n",
       "      <td>2017</td>\n",
       "      <td>3.437</td>\n",
       "      <td>104487</td>\n",
       "    </tr>\n",
       "    <tr>\n",
       "      <th>7</th>\n",
       "      <td>2018</td>\n",
       "      <td>3.575</td>\n",
       "      <td>207062</td>\n",
       "    </tr>\n",
       "    <tr>\n",
       "      <th>8</th>\n",
       "      <td>2019</td>\n",
       "      <td>3.680</td>\n",
       "      <td>233822</td>\n",
       "    </tr>\n",
       "    <tr>\n",
       "      <th>9</th>\n",
       "      <td>2020</td>\n",
       "      <td>3.576</td>\n",
       "      <td>238540</td>\n",
       "    </tr>\n",
       "  </tbody>\n",
       "</table>\n",
       "</div>"
      ],
      "text/plain": [
       "   Year    Gas     Car\n",
       "0  2011  2.258   10092\n",
       "1  2012  2.691   14587\n",
       "2  2013  2.813   48094\n",
       "3  2014  2.528   63525\n",
       "4  2015  2.250   71064\n",
       "5  2016  2.520   86731\n",
       "6  2017  3.437  104487\n",
       "7  2018  3.575  207062\n",
       "8  2019  3.680  233822\n",
       "9  2020  3.576  238540"
      ]
     },
     "execution_count": 8,
     "metadata": {},
     "output_type": "execute_result"
    }
   ],
   "source": [
    "# Merge the two DataFrames on the \"Year\" column\n",
    "df_merged_1 = pd.merge(df_gas, df_car, on='Year')\n",
    "df_merged_1"
   ]
  },
  {
   "cell_type": "code",
   "execution_count": 9,
   "id": "3271e2e9",
   "metadata": {},
   "outputs": [
    {
     "data": {
      "image/png": "[encoded data removed]",
      "text/plain": [
       "<Figure size 432x288 with 1 Axes>"
      ]
     },
     "metadata": {
      "needs_background": "light"
     },
     "output_type": "display_data"
    }
   ],
   "source": [
    "# Build the linear regression model\n",
    "import matplotlib.pyplot as plt\n",
    "from sklearn.linear_model import LinearRegression\n",
    "X = df_merged_1[['Gas']] # Independent variable\n",
    "y = df_merged_1['Car']   # Dependent variable\n",
    "model = LinearRegression()\n",
    "model.fit(X, y)\n",
    "\n",
    "# Plot the linear regression model\n",
    "plt.scatter(X, y, color='blue')\n",
    "plt.plot(X, model.predict(X), color='red')\n",
    "plt.title('Gas vs Car')\n",
    "plt.xlabel('Gas')\n",
    "plt.ylabel('Car')\n",
    "plt.show()"
   ]
  },
  {
   "cell_type": "markdown",
   "id": "4965d9e3",
   "metadata": {},
   "source": [
    "As you can see from the plot, there is a strong positive correlation between the \"Gas\" and \"car\" columns, which is reflected in the positive slope of the linear regression line.\n",
    "\n",
    "This shows when the gas price increases, more people are willing to buy Electric cars."
   ]
  },
  {
   "cell_type": "markdown",
   "id": "adcc083b",
   "metadata": {},
   "source": [
    "## Car vs Co2"
   ]
  },
  {
   "cell_type": "code",
   "execution_count": 10,
   "id": "03448f3c",
   "metadata": {},
   "outputs": [
    {
     "data": {
      "text/html": [
       "<div>\n",
       "<style scoped>\n",
       "    .dataframe tbody tr th:only-of-type {\n",
       "        vertical-align: middle;\n",
       "    }\n",
       "\n",
       "    .dataframe tbody tr th {\n",
       "        vertical-align: top;\n",
       "    }\n",
       "\n",
       "    .dataframe thead th {\n",
       "        text-align: right;\n",
       "    }\n",
       "</style>\n",
       "<table border=\"1\" class=\"dataframe\">\n",
       "  <thead>\n",
       "    <tr style=\"text-align: right;\">\n",
       "      <th></th>\n",
       "      <th>Year</th>\n",
       "      <th>Car</th>\n",
       "      <th>CO2</th>\n",
       "    </tr>\n",
       "  </thead>\n",
       "  <tbody>\n",
       "    <tr>\n",
       "      <th>0</th>\n",
       "      <td>2011</td>\n",
       "      <td>10092</td>\n",
       "      <td>2.315183</td>\n",
       "    </tr>\n",
       "    <tr>\n",
       "      <th>1</th>\n",
       "      <td>2012</td>\n",
       "      <td>14587</td>\n",
       "      <td>2.658833</td>\n",
       "    </tr>\n",
       "    <tr>\n",
       "      <th>2</th>\n",
       "      <td>2013</td>\n",
       "      <td>48094</td>\n",
       "      <td>2.401849</td>\n",
       "    </tr>\n",
       "    <tr>\n",
       "      <th>3</th>\n",
       "      <td>2014</td>\n",
       "      <td>63525</td>\n",
       "      <td>2.429892</td>\n",
       "    </tr>\n",
       "    <tr>\n",
       "      <th>4</th>\n",
       "      <td>2015</td>\n",
       "      <td>71064</td>\n",
       "      <td>2.256876</td>\n",
       "    </tr>\n",
       "    <tr>\n",
       "      <th>5</th>\n",
       "      <td>2016</td>\n",
       "      <td>86731</td>\n",
       "      <td>1.948517</td>\n",
       "    </tr>\n",
       "    <tr>\n",
       "      <th>6</th>\n",
       "      <td>2017</td>\n",
       "      <td>104487</td>\n",
       "      <td>2.099782</td>\n",
       "    </tr>\n",
       "    <tr>\n",
       "      <th>7</th>\n",
       "      <td>2018</td>\n",
       "      <td>207062</td>\n",
       "      <td>1.337907</td>\n",
       "    </tr>\n",
       "    <tr>\n",
       "      <th>8</th>\n",
       "      <td>2019</td>\n",
       "      <td>233822</td>\n",
       "      <td>1.492802</td>\n",
       "    </tr>\n",
       "    <tr>\n",
       "      <th>9</th>\n",
       "      <td>2020</td>\n",
       "      <td>238540</td>\n",
       "      <td>1.349367</td>\n",
       "    </tr>\n",
       "  </tbody>\n",
       "</table>\n",
       "</div>"
      ],
      "text/plain": [
       "   Year     Car       CO2\n",
       "0  2011   10092  2.315183\n",
       "1  2012   14587  2.658833\n",
       "2  2013   48094  2.401849\n",
       "3  2014   63525  2.429892\n",
       "4  2015   71064  2.256876\n",
       "5  2016   86731  1.948517\n",
       "6  2017  104487  2.099782\n",
       "7  2018  207062  1.337907\n",
       "8  2019  233822  1.492802\n",
       "9  2020  238540  1.349367"
      ]
     },
     "execution_count": 10,
     "metadata": {},
     "output_type": "execute_result"
    }
   ],
   "source": [
    "# Merge the two DataFrames on the \"Year\" column\n",
    "df_merged_2 = pd.merge(df_car, df_co2, on='Year')\n",
    "df_merged_2"
   ]
  },
  {
   "cell_type": "code",
   "execution_count": 11,
   "id": "10a080e2",
   "metadata": {},
   "outputs": [
    {
     "data": {
      "image/png": "[encoded data removed]",
      "text/plain": [
       "<Figure size 432x288 with 1 Axes>"
      ]
     },
     "metadata": {
      "needs_background": "light"
     },
     "output_type": "display_data"
    }
   ],
   "source": [
    "# Build the linear regression model\n",
    "X = df_merged_2[['Car']] # Independent variable\n",
    "y = df_merged_2['CO2']   # Dependent variable\n",
    "model = LinearRegression()\n",
    "model.fit(X, y)\n",
    "\n",
    "# Plot the linear regression model\n",
    "plt.scatter(X, y, color='blue')\n",
    "plt.plot(X, model.predict(X), color='red')\n",
    "plt.title('Car vs CO2')\n",
    "plt.xlabel('Car')\n",
    "plt.ylabel('CO2')\n",
    "plt.show()"
   ]
  },
  {
   "cell_type": "markdown",
   "id": "6845151c",
   "metadata": {},
   "source": [
    "As you can see from the plot, there is a strong negative correlation between the \"Car\" and \"co2\" columns, which is reflected in the negative slope of the linear regression line.\n",
    "\n",
    "This shows electric cars contribute a lot to environment."
   ]
  },
  {
   "cell_type": "markdown",
   "id": "41bba2ac",
   "metadata": {},
   "source": [
    "## USE co2 and gas price to predict number of electric cars"
   ]
  },
  {
   "cell_type": "code",
   "execution_count": 12,
   "id": "a6dbf179",
   "metadata": {},
   "outputs": [
    {
     "name": "stdout",
     "output_type": "stream",
     "text": [
      "Car = 236991.35 + 46205.34 * Gas + -130452.84 * CO2\n"
     ]
    },
    {
     "data": {
      "image/png": "[encoded data removed]",
      "text/plain": [
       "<Figure size 432x288 with 1 Axes>"
      ]
     },
     "metadata": {
      "needs_background": "light"
     },
     "output_type": "display_data"
    }
   ],
   "source": [
    "import pandas as pd\n",
    "import numpy as np\n",
    "import matplotlib.pyplot as plt\n",
    "from mpl_toolkits.mplot3d import Axes3D\n",
    "from sklearn.linear_model import LinearRegression\n",
    "\n",
    "# Merge the DataFrames on the \"Year\" column\n",
    "df_merged = pd.merge(df_gas, df_co2, on='Year')\n",
    "df_merged = pd.merge(df_merged, df_car, on='Year')\n",
    "\n",
    "# Build the linear regression model\n",
    "X = df_merged[['Gas', 'CO2']] # Independent variables\n",
    "y = df_merged['Car']          # Dependent variable\n",
    "model = LinearRegression()\n",
    "model.fit(X, y)\n",
    "\n",
    "# Print the mathematical formula of the model\n",
    "print(f'Car = {model.intercept_:.2f} + {model.coef_[0]:.2f} * Gas + {model.coef_[1]:.2f} * CO2')\n",
    "\n",
    "# Plot the linear regression model\n",
    "fig = plt.figure()\n",
    "ax = fig.add_subplot(111, projection='3d')\n",
    "ax.scatter(df_merged['Gas'], df_merged['CO2'], df_merged['Car'], c='blue', marker='o')\n",
    "x_surf, y_surf = np.meshgrid(np.linspace(df_merged['Gas'].min(), df_merged['Gas'].max(), 100), \n",
    "                             np.linspace(df_merged['CO2'].min(), df_merged['CO2'].max(), 100))\n",
    "z_surf = model.intercept_ + model.coef_[0] * x_surf + model.coef_[1] * y_surf\n",
    "ax.plot_surface(x_surf, y_surf, z_surf, cmap='coolwarm', alpha=0.5)\n",
    "ax.set_xlabel('Gas')\n",
    "ax.set_ylabel('CO2')\n",
    "ax.set_zlabel('Car')\n",
    "ax.view_init(elev=20, azim=30) # Rotate the view\n",
    "plt.show()"
   ]
  }
 ],
 "metadata": {
  "kernelspec": {
   "display_name": "Python 3 (ipykernel)",
   "language": "python",
   "name": "python3"
  },
  "language_info": {
   "codemirror_mode": {
    "name": "ipython",
    "version": 3
   },
   "file_extension": ".py",
   "mimetype": "text/x-python",
   "name": "python",
   "nbconvert_exporter": "python",
   "pygments_lexer": "ipython3",
   "version": "3.9.6"
  }
 },
 "nbformat": 4,
 "nbformat_minor": 5
}
